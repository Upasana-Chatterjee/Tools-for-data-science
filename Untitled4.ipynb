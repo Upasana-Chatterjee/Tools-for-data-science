{
  "nbformat": 4,
  "nbformat_minor": 0,
  "metadata": {
    "colab": {
      "provenance": []
    },
    "kernelspec": {
      "name": "python3",
      "display_name": "Python 3"
    },
    "language_info": {
      "name": "python"
    }
  },
  "cells": [
    {
      "cell_type": "markdown",
      "source": [
        "Data Science Tools and Ecosystem"
      ],
      "metadata": {
        "id": "7nnv3Wzeyud3"
      }
    },
    {
      "cell_type": "markdown",
      "source": [
        "In this notebook, Data Science Tools and Ecosystem are summarized."
      ],
      "metadata": {
        "id": "9YHaDIK6yw-k"
      }
    },
    {
      "cell_type": "markdown",
      "source": [
        "Objectives: List of popular languages Commonly used libraries Data science tools"
      ],
      "metadata": {
        "id": "s7imElEWy9PX"
      }
    },
    {
      "cell_type": "markdown",
      "source": [
        "Some of the popular languages that Data Scientists use are: 1) Python 2) R 3) SQL 4) Java"
      ],
      "metadata": {
        "id": "mxzAWF1Py-UP"
      }
    },
    {
      "cell_type": "markdown",
      "source": [
        "Some of the commonly used libraries used by Data Scientists include: 1)Pandas 2)Numpy 3)TensorFlow 4)SciPy"
      ],
      "metadata": {
        "id": "B3eOA4fAzDOP"
      }
    },
    {
      "cell_type": "markdown",
      "source": [
        "Data Science Tools RStudio. Apache Spark. TensorFlow."
      ],
      "metadata": {
        "id": "taQr0MayzR6O"
      }
    },
    {
      "cell_type": "markdown",
      "source": [
        "Below are a few examples of evaluating arithmetic expressions in Python 3+(5*5) 27/3"
      ],
      "metadata": {
        "id": "rpQgw2e_zXHP"
      }
    },
    {
      "cell_type": "code",
      "source": [
        "(3*4)+5\n",
        "# This a simple arithmetic expression to mutiply then add integers"
      ],
      "metadata": {
        "colab": {
          "base_uri": "https://localhost:8080/"
        },
        "id": "yFIA2OkwzfOJ",
        "outputId": "12bd53f2-819e-48ca-fcf7-34235bf56185"
      },
      "execution_count": 1,
      "outputs": [
        {
          "output_type": "execute_result",
          "data": {
            "text/plain": [
              "17"
            ]
          },
          "metadata": {},
          "execution_count": 1
        }
      ]
    },
    {
      "cell_type": "code",
      "source": [
        "200/60\n",
        "# This will convert 200 minutes to hours by diving by 60"
      ],
      "metadata": {
        "colab": {
          "base_uri": "https://localhost:8080/"
        },
        "id": "cxQgBwhczqef",
        "outputId": "a035e3ab-c2b0-44b0-fc83-cb3c54ac5976"
      },
      "execution_count": 2,
      "outputs": [
        {
          "output_type": "execute_result",
          "data": {
            "text/plain": [
              "3.3333333333333335"
            ]
          },
          "metadata": {},
          "execution_count": 2
        }
      ]
    },
    {
      "cell_type": "markdown",
      "source": [
        "Author Upasana Chatterjee"
      ],
      "metadata": {
        "id": "kZnTE-TDzuYv"
      }
    }
  ]
}